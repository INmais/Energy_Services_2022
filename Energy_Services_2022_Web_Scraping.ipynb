{
  "nbformat": 4,
  "nbformat_minor": 0,
  "metadata": {
    "colab": {
      "name": "Energy Services 2022 - Web Scraping.ipynb",
      "provenance": [],
      "authorship_tag": "ABX9TyOyZCUt20IRMhi5jgtBJUP6",
      "include_colab_link": true
    },
    "kernelspec": {
      "name": "python3",
      "display_name": "Python 3"
    },
    "language_info": {
      "name": "python"
    }
  },
  "cells": [
    {
      "cell_type": "markdown",
      "metadata": {
        "id": "view-in-github",
        "colab_type": "text"
      },
      "source": [
        "<a href=\"https://colab.research.google.com/github/INmais/Energy_Services_2022/blob/main/Energy_Services_2022_Web_Scraping.ipynb\" target=\"_parent\"><img src=\"https://colab.research.google.com/assets/colab-badge.svg\" alt=\"Open In Colab\"/></a>"
      ]
    },
    {
      "cell_type": "markdown",
      "source": [
        "# Web Scraping"
      ],
      "metadata": {
        "id": "hVAlGWzA3b_7"
      }
    },
    {
      "cell_type": "markdown",
      "source": [
        "## HTML page structure\n",
        "\n",
        "**Hypertext Markup Language (HTML)** is the standard markup language for documents designed to be displayed in a web browser. HTML describes the structure of a web page and it can be used with **Cascading Style Sheets (CSS)** and a scripting language such as **JavaScript** to create interactive websites. HTML consists of a series of elements that \"tell\" to the browser how to display the content. Lastly, elements are represented by **tags**.\n",
        "\n",
        "Here are some tags:\n",
        "* `<!DOCTYPE html>` declaration defines this document to be HTML5.  \n",
        "* `<html>` element is the root element of an HTML page.  \n",
        "* `<div>` tag defines a division or a section in an HTML document. It's usually a container for other elements.\n",
        "* `<head>` element contains meta information about the document.  \n",
        "* `<title>` element specifies a title for the document.  \n",
        "* `<body>` element contains the visible page content.  \n",
        "* `<h1>` element defines a large heading.  \n",
        "* `<p>` element defines a paragraph.  \n",
        "* `<a>` element defines a hyperlink.\n",
        "\n",
        "HTML tags normally come in pairs like `<p>` and `</p>`. The first tag in a pair is the opening tag, the second tag is the closing tag. The end tag is written like the start tag, but with a slash inserted before the tag name.\n",
        "\n",
        "<img src=\"https://github.com/nestauk/im-tutorials/blob/3-ysi-tutorial/figures/Web-Scraping/tags.png?raw=1\" width=\"512\">\n",
        "\n",
        "HTML has a tree-like 🌳 🌲 structure thanks to the **Document Object Model (DOM)**, a cross-platform and language-independent interface. Here's how a very simple HTML tree looks like.\n",
        "\n",
        "<img src=\"https://github.com/nestauk/im-tutorials/blob/3-ysi-tutorial/figures/Web-Scraping/dom_tree.gif?raw=1\">\n",
        "\n",
        "### Creating a simple HTML page"
      ],
      "metadata": {
        "id": "DBH-9j9z3ty4"
      }
    },
    {
      "cell_type": "code",
      "execution_count": 1,
      "metadata": {
        "id": "XL7lYytJ3aY8"
      },
      "outputs": [],
      "source": [
        "from IPython.core.display import display, HTML"
      ]
    },
    {
      "cell_type": "code",
      "source": [
        "display(HTML(\"\"\"\n",
        "<!DOCTYPE html>\n",
        "<html lang=\"en\" dir=\"ltr\">\n",
        "<head>\n",
        "  <title>Intro to HTML</title>\n",
        "</head>\n",
        "\n",
        "<body>\n",
        "  <h1>Heading h1</h1>\n",
        "  <h2>Heading h2</h2>\n",
        "  <h3>Heading h3</h3>\n",
        "  <h4>Heading h4</h4>\n",
        "\n",
        "  <p>\n",
        "    That's a text paragraph. You can also <b>bold</b>, <mark>mark</mark>, <ins>underline</ins>, <del>strikethrough</del> and <i>emphasize</i> words.\n",
        "    You can also add links - here's one to <a href=\"https://en.wikipedia.org/wiki/Main_Page\">Wikipedia</a>.\n",
        "  </p>\n",
        "\n",
        "  <p>\n",
        "    This <br> is a paragraph <br> with <br> line breaks\n",
        "  </p>\n",
        "\n",
        "  <p style=\"color:red\">\n",
        "    Add colour to your paragraphs.\n",
        "  </p>\n",
        "\n",
        "  <p>Unordered list:</p>\n",
        "  <ul>\n",
        "    <li>Python</li>\n",
        "    <li>R</li>\n",
        "    <li>Julia</li>\n",
        "  </ul>\n",
        "\n",
        "  <p>Ordered list:</p>\n",
        "  <ol>\n",
        "    <li>Data collection</li>\n",
        "    <li>Exploratory data analysis</li>\n",
        "    <li>Data analysis</li>\n",
        "    <li>Policy recommendations</li>\n",
        "  </ol>\n",
        "  <hr>\n",
        "\n",
        "  <!-- This is a comment -->\n",
        "\n",
        "</body>\n",
        "</html>\n",
        "\"\"\"))"
      ],
      "metadata": {
        "colab": {
          "base_uri": "https://localhost:8080/",
          "height": 520
        },
        "id": "5x0UfE_M4AoM",
        "outputId": "e7f2deb9-25a2-45cb-e7d1-95b5903de82b"
      },
      "execution_count": 2,
      "outputs": [
        {
          "output_type": "display_data",
          "data": {
            "text/plain": [
              "<IPython.core.display.HTML object>"
            ],
            "text/html": [
              "\n",
              "<!DOCTYPE html>\n",
              "<html lang=\"en\" dir=\"ltr\">\n",
              "<head>\n",
              "  <title>Intro to HTML</title>\n",
              "</head>\n",
              "\n",
              "<body>\n",
              "  <h1>Heading h1</h1>\n",
              "  <h2>Heading h2</h2>\n",
              "  <h3>Heading h3</h3>\n",
              "  <h4>Heading h4</h4>\n",
              "\n",
              "  <p>\n",
              "    That's a text paragraph. You can also <b>bold</b>, <mark>mark</mark>, <ins>underline</ins>, <del>strikethrough</del> and <i>emphasize</i> words.\n",
              "    You can also add links - here's one to <a href=\"https://en.wikipedia.org/wiki/Main_Page\">Wikipedia</a>.\n",
              "  </p>\n",
              "\n",
              "  <p>\n",
              "    This <br> is a paragraph <br> with <br> line breaks\n",
              "  </p>\n",
              "\n",
              "  <p style=\"color:red\">\n",
              "    Add colour to your paragraphs.\n",
              "  </p>\n",
              "\n",
              "  <p>Unordered list:</p>\n",
              "  <ul>\n",
              "    <li>Python</li>\n",
              "    <li>R</li>\n",
              "    <li>Julia</li>\n",
              "  </ul>\n",
              "\n",
              "  <p>Ordered list:</p>\n",
              "  <ol>\n",
              "    <li>Data collection</li>\n",
              "    <li>Exploratory data analysis</li>\n",
              "    <li>Data analysis</li>\n",
              "    <li>Policy recommendations</li>\n",
              "  </ol>\n",
              "  <hr>\n",
              "\n",
              "  <!-- This is a comment -->\n",
              "\n",
              "</body>\n",
              "</html>\n"
            ]
          },
          "metadata": {}
        }
      ]
    },
    {
      "cell_type": "markdown",
      "source": [
        "## Chrome DevTools\n",
        "\n",
        "[Chrome DevTools](https://developers.google.com/web/tools/chrome-devtools/) is a set of web developer tools built directly into the Google Chrome browser. DevTools can help you view and edit web pages. We will use Chrome's tool to inspect an HTML page and find which elements correspond to the data we might want to scrape.\n",
        "\n",
        "**Tip**: Hit *Command+Option+C* (Mac) or *Control+Shift+C* (Windows, Linux) to access the elements panel.\n",
        "\n"
      ],
      "metadata": {
        "id": "yh8kbaSR4WDo"
      }
    },
    {
      "cell_type": "markdown",
      "source": [
        "## Web Scraping with `requests` and `BeautifulSoup`\n",
        "\n",
        "We will use `requests` and `BeautifulSoup` to access and scrape the content of [Meteo Téecnico](http://caboruivo.tecnico.ulisboa.pt:63104/).\n",
        "\n",
        "### What is `BeautifulSoup`?\n",
        "\n",
        "It is a Python library for pulling data out of HTML and XML files. It provides methods to navigate the document's tree structure that we discussed before and scrape its content.\n",
        "\n",
        "### Our pipeline\n",
        "\n",
        "- Access a web page (requests)\n",
        "- Parse the HTML document (Beautifulsoup)\n",
        "- Inspect what to scrape (Google Dev Tools)\n",
        "- Find the tags (Beautiful Soup)\n",
        "    - (max temperature)\n",
        "    - (min temperature)\n",
        "    - (city)\n",
        "- Print/Store their content\n"
      ],
      "metadata": {
        "id": "4gNuOIt_43xO"
      }
    },
    {
      "cell_type": "code",
      "source": [
        "import requests\n",
        "from bs4 import BeautifulSoup\n",
        "import pandas\n",
        "\n",
        "\n",
        "page_url=\"http://caboruivo.tecnico.ulisboa.pt:63104/\"\n",
        "page=requests.get(page_url)\n",
        "soup=BeautifulSoup(page.content,\"html.parser\")\n",
        "\n",
        "\n",
        "table = soup.findAll('table',{'class':'table table-hover'})"
      ],
      "metadata": {
        "id": "12Lee9oHJFS9"
      },
      "execution_count": 8,
      "outputs": []
    },
    {
      "cell_type": "code",
      "source": [
        "#city={17:'Faro', 16:'Beja', 15:'Évora', 14:'Setúbal', 13:'Lisboa', 12:'Portalegre', 11:'Santarém', 10:'Leiria', 9:'Castelo Branco', 8:'Coimbra', 7:'Guarda',6:'Viseu', 5:'Aveiro', 4:'Porto', 3:'Bragança', 2:'Vila Real', 1:'Braga', 0:'Viana do Castelo'}\n",
        "\n",
        "l=[]\n",
        "for items in table:\n",
        "  for i in range(len(items.find_all(\"tr\"))-1):\n",
        "    d = {}\n",
        "    d[\"temp max\"]= items(\"span\",{\"class\":\"max-temp\"})[i].text\n",
        "    d[\"temp min\"]= items(\"span\",{\"class\":\"min-temp\"})[i].text \n",
        "    l.append(d)\n",
        "    "
      ],
      "metadata": {
        "id": "B4LBckwV6elf"
      },
      "execution_count": 9,
      "outputs": []
    },
    {
      "cell_type": "code",
      "source": [
        "l"
      ],
      "metadata": {
        "colab": {
          "base_uri": "https://localhost:8080/"
        },
        "id": "a-QkMozEmxdM",
        "outputId": "1ed4c681-2dfd-4c75-b120-5745c2e57594"
      },
      "execution_count": 11,
      "outputs": [
        {
          "output_type": "execute_result",
          "data": {
            "text/plain": [
              "[{'temp max': '18º', 'temp min': '11º'},\n",
              " {'temp max': '15º', 'temp min': '8º'},\n",
              " {'temp max': '14º', 'temp min': '9º'},\n",
              " {'temp max': '13º', 'temp min': '9º'},\n",
              " {'temp max': '12º', 'temp min': '9º'},\n",
              " {'temp max': '15º', 'temp min': '11º'},\n",
              " {'temp max': '15º', 'temp min': '12º'},\n",
              " {'temp max': '20º', 'temp min': '12º'},\n",
              " {'temp max': '17º', 'temp min': '8º'},\n",
              " {'temp max': '16º', 'temp min': '8º'},\n",
              " {'temp max': '15º', 'temp min': '8º'},\n",
              " {'temp max': '13º', 'temp min': '8º'},\n",
              " {'temp max': '15º', 'temp min': '9º'},\n",
              " {'temp max': '16º', 'temp min': '11º'},\n",
              " {'temp max': '21º', 'temp min': '12º'},\n",
              " {'temp max': '16º', 'temp min': '9º'},\n",
              " {'temp max': '15º', 'temp min': '6º'},\n",
              " {'temp max': '13º', 'temp min': '6º'},\n",
              " {'temp max': '10º', 'temp min': '7º'},\n",
              " {'temp max': '13º', 'temp min': '4º'},\n",
              " {'temp max': '15º', 'temp min': '9º'},\n",
              " {'temp max': '20º', 'temp min': '9º'},\n",
              " {'temp max': '14º', 'temp min': '6º'},\n",
              " {'temp max': '12º', 'temp min': '4º'},\n",
              " {'temp max': '12º', 'temp min': '3º'},\n",
              " {'temp max': '9º', 'temp min': '4º'},\n",
              " {'temp max': '12º', 'temp min': '4º'},\n",
              " {'temp max': '14º', 'temp min': '6º'},\n",
              " {'temp max': '18º', 'temp min': '10º'},\n",
              " {'temp max': '17º', 'temp min': '9º'},\n",
              " {'temp max': '14º', 'temp min': '9º'},\n",
              " {'temp max': '14º', 'temp min': '10º'},\n",
              " {'temp max': '13º', 'temp min': '10º'},\n",
              " {'temp max': '15º', 'temp min': '11º'},\n",
              " {'temp max': '16º', 'temp min': '11º'}]"
            ]
          },
          "metadata": {},
          "execution_count": 11
        }
      ]
    }
  ]
}